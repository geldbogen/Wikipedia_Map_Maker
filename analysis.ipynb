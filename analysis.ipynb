{
 "cells": [
  {
   "cell_type": "code",
   "execution_count": 1,
   "metadata": {},
   "outputs": [
    {
     "name": "stdout",
     "output_type": "stream",
     "text": [
      "_merge\n",
      "both          8781\n",
      "right_only     487\n",
      "left_only        0\n",
      "Name: count, dtype: int64\n",
      "                                         itemLabel_x  lat_x  lon_x location_x  \\\n",
      "item                                                                            \n",
      "http://www.wikidata.org/entity/Q270              NaN    NaN    NaN        NaN   \n",
      "http://www.wikidata.org/entity/Q54169            NaN    NaN    NaN        NaN   \n",
      "http://www.wikidata.org/entity/Q211274           NaN    NaN    NaN        NaN   \n",
      "http://www.wikidata.org/entity/Q207272           NaN    NaN    NaN        NaN   \n",
      "http://www.wikidata.org/entity/Q152115           NaN    NaN    NaN        NaN   \n",
      "...                                              ...    ...    ...        ...   \n",
      "http://www.wikidata.org/entity/Q11803547         NaN    NaN    NaN        NaN   \n",
      "http://www.wikidata.org/entity/Q9388984          NaN    NaN    NaN        NaN   \n",
      "http://www.wikidata.org/entity/Q11810288         NaN    NaN    NaN        NaN   \n",
      "http://www.wikidata.org/entity/Q11806874         NaN    NaN    NaN        NaN   \n",
      "http://www.wikidata.org/entity/Q11805666         NaN    NaN    NaN        NaN   \n",
      "\n",
      "                                          distance_x  sitelinks_x  \\\n",
      "item                                                                \n",
      "http://www.wikidata.org/entity/Q270              NaN          NaN   \n",
      "http://www.wikidata.org/entity/Q54169            NaN          NaN   \n",
      "http://www.wikidata.org/entity/Q211274           NaN          NaN   \n",
      "http://www.wikidata.org/entity/Q207272           NaN          NaN   \n",
      "http://www.wikidata.org/entity/Q152115           NaN          NaN   \n",
      "...                                              ...          ...   \n",
      "http://www.wikidata.org/entity/Q11803547         NaN          NaN   \n",
      "http://www.wikidata.org/entity/Q9388984          NaN          NaN   \n",
      "http://www.wikidata.org/entity/Q11810288         NaN          NaN   \n",
      "http://www.wikidata.org/entity/Q11806874         NaN          NaN   \n",
      "http://www.wikidata.org/entity/Q11805666         NaN          NaN   \n",
      "\n",
      "                                                        itemLabel_y  \\\n",
      "item                                                                  \n",
      "http://www.wikidata.org/entity/Q270                        Warschau   \n",
      "http://www.wikidata.org/entity/Q54169         Woiwodschaft Masowien   \n",
      "http://www.wikidata.org/entity/Q211274          Volksrepublik Polen   \n",
      "http://www.wikidata.org/entity/Q207272    Zweite Polnische Republik   \n",
      "http://www.wikidata.org/entity/Q152115           Herzogtum Warschau   \n",
      "...                                                             ...   \n",
      "http://www.wikidata.org/entity/Q11803547                  Q11803547   \n",
      "http://www.wikidata.org/entity/Q9388984                    Q9388984   \n",
      "http://www.wikidata.org/entity/Q11810288                  Q11810288   \n",
      "http://www.wikidata.org/entity/Q11806874                  Q11806874   \n",
      "http://www.wikidata.org/entity/Q11805666                  Q11805666   \n",
      "\n",
      "                                              lat_y      lon_y  \\\n",
      "item                                                             \n",
      "http://www.wikidata.org/entity/Q270       52.230000  21.011111   \n",
      "http://www.wikidata.org/entity/Q54169     52.333333  21.100000   \n",
      "http://www.wikidata.org/entity/Q211274    52.216667  21.033333   \n",
      "http://www.wikidata.org/entity/Q207272    52.230000  21.011111   \n",
      "http://www.wikidata.org/entity/Q152115    52.233333  21.016667   \n",
      "...                                             ...        ...   \n",
      "http://www.wikidata.org/entity/Q11803547  52.206400  21.181900   \n",
      "http://www.wikidata.org/entity/Q9388984   52.194000  21.203400   \n",
      "http://www.wikidata.org/entity/Q11810288  52.129800  21.055700   \n",
      "http://www.wikidata.org/entity/Q11806874  52.137000  21.064900   \n",
      "http://www.wikidata.org/entity/Q11805666  52.137900  21.048000   \n",
      "\n",
      "                                                              location_y  \\\n",
      "item                                                                       \n",
      "http://www.wikidata.org/entity/Q270            Point(21.011111111 52.23)   \n",
      "http://www.wikidata.org/entity/Q54169           Point(21.1 52.333333333)   \n",
      "http://www.wikidata.org/entity/Q211274    Point(21.03333333 52.21666667)   \n",
      "http://www.wikidata.org/entity/Q207272         Point(21.011111111 52.23)   \n",
      "http://www.wikidata.org/entity/Q152115        Point(21.016667 52.233333)   \n",
      "...                                                                  ...   \n",
      "http://www.wikidata.org/entity/Q11803547          Point(21.1819 52.2064)   \n",
      "http://www.wikidata.org/entity/Q9388984            Point(21.2034 52.194)   \n",
      "http://www.wikidata.org/entity/Q11810288          Point(21.0557 52.1298)   \n",
      "http://www.wikidata.org/entity/Q11806874           Point(21.0649 52.137)   \n",
      "http://www.wikidata.org/entity/Q11805666           Point(21.048 52.1379)   \n",
      "\n",
      "                                          distance_y  sitelinks_y      _merge  \n",
      "item                                                                           \n",
      "http://www.wikidata.org/entity/Q270            1.802          273  right_only  \n",
      "http://www.wikidata.org/entity/Q54169         11.196          107  right_only  \n",
      "http://www.wikidata.org/entity/Q211274         3.007           65  right_only  \n",
      "http://www.wikidata.org/entity/Q207272         1.802           63  right_only  \n",
      "http://www.wikidata.org/entity/Q152115         1.286           60  right_only  \n",
      "...                                              ...          ...         ...  \n",
      "http://www.wikidata.org/entity/Q11803547      11.377            1  right_only  \n",
      "http://www.wikidata.org/entity/Q9388984       13.263            1  right_only  \n",
      "http://www.wikidata.org/entity/Q11810288      12.785            1  right_only  \n",
      "http://www.wikidata.org/entity/Q11806874      12.116            1  right_only  \n",
      "http://www.wikidata.org/entity/Q11805666      11.819            1  right_only  \n",
      "\n",
      "[487 rows x 13 columns]\n"
     ]
    }
   ],
   "source": [
    "import pandas as pd\n",
    "\n",
    "df_with_admin = pd.read_csv('data/query_with_admin.csv')\n",
    "df_with_no_admin = pd.read_csv('data/query_with_no_admin.csv')\n",
    "\n",
    "df_with_admin.sort_values(by='sitelinks', inplace=True, ascending=False)\n",
    "df_with_no_admin.sort_values(by='sitelinks', inplace=True, ascending=False)\n",
    "\n",
    "df_with_admin.drop_duplicates(subset=['item'], inplace=True)\n",
    "df_with_no_admin.drop_duplicates(subset=['item'], inplace=True)\n",
    "\n",
    "df_with_admin.set_index('item', inplace=True)\n",
    "df_with_no_admin.set_index('item', inplace=True)\n",
    "\n",
    "df_all = df_with_no_admin.merge(df_with_admin, how='right', on='item', indicator=True,)\n",
    "\n",
    "print(df_all['_merge'].value_counts())\n",
    "print(df_all[df_all['_merge']=='right_only'])\n",
    "df_all[df_all['_merge']=='right_only'].to_csv('t.csv')\n"
   ]
  },
  {
   "cell_type": "markdown",
   "metadata": {},
   "source": []
  },
  {
   "cell_type": "code",
   "execution_count": 3,
   "metadata": {},
   "outputs": [
    {
     "name": "stdout",
     "output_type": "stream",
     "text": [
      "0.14099305474150164\n",
      "49.520405800000006\n"
     ]
    }
   ],
   "source": [
    "from geopy.geocoders import Nominatim\n",
    "\n",
    "geolocator = Nominatim(user_agent=\"wikipedia-map-maker\")\n",
    "location = geolocator.geocode('\"forêt de Montgeon\" Le_Havre')\n",
    "print(location.longitude)\n",
    "print(location.latitude)"
   ]
  },
  {
   "cell_type": "code",
   "execution_count": 6,
   "metadata": {},
   "outputs": [
    {
     "name": "stdout",
     "output_type": "stream",
     "text": [
      "[\" '''Hill Stations''' &mdash; following are some of the hill stations that can be weekend gateways from Mumbai:\"]\n"
     ]
    }
   ],
   "source": [
    "import wikitextparser as wtp\n",
    "f = wtp.parse(\"* '''Hill Stations''' &mdash; following are some of the hill stations that can be weekend gateways from Mumbai:\\n** [[Matheran]] ({{km|102}}, 1.5 hr) &mdash; can be reached both by road and by train. For train option, take a suburban train to Neral and take hour long toy train to reach Matheran top. Alternatively it can be climbed\\n** [[Lonavala]] ({{km|111.5}}, 1.5 hr) &mdash; best reached by road. Suburban trains do not ply to Lonavala, and may need to exchange train at Karjat or take en route long-distance train\\n** [[Khandala]] ({{km|101}}, 1.5 hr) &mdash; check Lonavala\\n** [[Dapoli]]| ({{km|200}} S - by bus) -is a popular hill station also beaches, historical temples, caves and forts scattered around\\n**[[Mahabaleshwar]] ({{km|242}}, 7 hr) &mdash; best reached by road\\n\")\n",
    "print(f.get_lists()[0].items)\n"
   ]
  },
  {
   "cell_type": "code",
   "execution_count": null,
   "metadata": {},
   "outputs": [],
   "source": []
  },
  {
   "cell_type": "code",
   "execution_count": null,
   "metadata": {},
   "outputs": [],
   "source": []
  },
  {
   "cell_type": "code",
   "execution_count": null,
   "metadata": {},
   "outputs": [],
   "source": []
  },
  {
   "cell_type": "code",
   "execution_count": null,
   "metadata": {},
   "outputs": [],
   "source": []
  },
  {
   "cell_type": "code",
   "execution_count": null,
   "metadata": {},
   "outputs": [],
   "source": []
  }
 ],
 "metadata": {
  "kernelspec": {
   "display_name": ".venv",
   "language": "python",
   "name": "python3"
  },
  "language_info": {
   "codemirror_mode": {
    "name": "ipython",
    "version": 3
   },
   "file_extension": ".py",
   "mimetype": "text/x-python",
   "name": "python",
   "nbconvert_exporter": "python",
   "pygments_lexer": "ipython3",
   "version": "3.11.1"
  }
 },
 "nbformat": 4,
 "nbformat_minor": 2
}
